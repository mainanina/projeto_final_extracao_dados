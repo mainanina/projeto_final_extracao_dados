{
 "cells": [
  {
   "cell_type": "code",
   "execution_count": 0,
   "metadata": {
    "application/vnd.databricks.v1+cell": {
     "cellMetadata": {
      "byteLimit": 2048000,
      "rowLimit": 10000
     },
     "inputWidgets": {},
     "nuid": "28dc6d97-7b79-451d-be44-830b993064a5",
     "showTitle": false,
     "title": ""
    }
   },
   "outputs": [],
   "source": [
    "import requests\n",
    "from datetime import datetime, timedelta\n",
    "import pyspark.pandas as ps\n",
    "import time"
   ]
  },
  {
   "cell_type": "code",
   "execution_count": 0,
   "metadata": {
    "application/vnd.databricks.v1+cell": {
     "cellMetadata": {
      "byteLimit": 2048000,
      "rowLimit": 10000
     },
     "inputWidgets": {},
     "nuid": "894683ec-3b1c-4670-ae8d-0383face05ad",
     "showTitle": false,
     "title": ""
    }
   },
   "outputs": [],
   "source": [
    "def buscar_noticias(dir_escrita):\n",
    "    try:\n",
    "        df_final = ps.read_parquet(dir_escrita)\n",
    "    except:\n",
    "        df_final = ps.DataFrame()\n",
    "    data_atual = datetime.now()\n",
    "    data_inicio = data_atual - timedelta(days=30)\n",
    "    data_inicio_formatada = data_inicio.strftime('%Y-%m-%d')\n",
    "\n",
    "    API_KEY = 'b5dee996c6fd4446a025886f2eccd8c2'\n",
    "    url = 'https://newsapi.org/v2/everything'\n",
    "    params = {\n",
    "        'q': ['genoma', 'genetics', 'dna'],\n",
    "        'apiKey': API_KEY,\n",
    "        'searchin': 'title',\n",
    "        'from': data_inicio_formatada,\n",
    "        'sortBy': 'relevancy'\n",
    "    }\n",
    "    response = requests.get(url, params=params)\n",
    "    if response.status_code == 200:\n",
    "        noticias_30d = response.json()\n",
    "        for noticia in noticias_30d['articles']:\n",
    "            dict_noticia ={\n",
    "                    'source': noticia['source']['name'],\n",
    "                    'author': noticia['author'],\n",
    "                    'title': noticia['title'],\n",
    "                    'content': noticia['content'],\n",
    "                    'description': noticia['description'], \n",
    "                    'url': noticia['url'],\n",
    "                    'date': noticia['publishedAt']\n",
    "                }\n",
    "    \n",
    "            if df_final.empty:\n",
    "                df_noticia = ps.DataFrame([dict_noticia])\n",
    "                df_final = ps.concat([df_final, df_noticia], ignore_index=True)\n",
    "            \n",
    "            if not (df_final['title'].isin([dict_noticia['title']]).any()):\n",
    "                df_noticia = ps.DataFrame([dict_noticia])\n",
    "                df_final = ps.concat([df_final, df_noticia], ignore_index=True)\n",
    "    return df_final"
   ]
  },
  {
   "cell_type": "code",
   "execution_count": 0,
   "metadata": {
    "application/vnd.databricks.v1+cell": {
     "cellMetadata": {
      "byteLimit": 2048000,
      "rowLimit": 10000
     },
     "inputWidgets": {},
     "nuid": "32311200-2dd0-463c-ab8d-a9c154ae7077",
     "showTitle": false,
     "title": ""
    }
   },
   "outputs": [],
   "source": [
    "def load_data(df_final):\n",
    "    try:\n",
    "        df_final.to_parquet(dir_escrita)\n",
    "\n",
    "    except Exception as e: #caso o arquivo transformando ainda não exista, quer dizer que é o primeiro processo do pipeline e é preciso criar o arquivo destino\n",
    "        if 'java.io.FileNotFoundException' in str(e):\n",
    "            print(\"Arquivo não encontrado, primeiro processamento\")\n",
    "            df_new.to_parquet(dir_escrita)\n",
    "\n",
    "    print(\"resultado carregado com sucesso\")\n",
    "\n",
    "    #realiza a movimentação da pasta de dados brutos para a pasta de dados brutos já carregados\n",
    "    dbutils.fs.mv(\"/FileStore/tables/dados_brutos/\", \"/FileStore/tables/dados_carregados/\", True)"
   ]
  },
  {
   "cell_type": "code",
   "execution_count": 0,
   "metadata": {
    "application/vnd.databricks.v1+cell": {
     "cellMetadata": {
      "byteLimit": 2048000,
      "rowLimit": 10000
     },
     "inputWidgets": {},
     "nuid": "3446265b-bbd7-4c88-9869-942a8cecd47c",
     "showTitle": false,
     "title": ""
    }
   },
   "outputs": [],
   "source": [
    "def elt(dir_leitura, dir_escrita):\n",
    "    print(\"inicializa o ELT\")\n",
    "    try:\n",
    "        #faz a chamada da extração, da carga e da transformação dos dados\n",
    "        df_new = buscar_noticias(dir_escrita)\n",
    "        load_data(df_new)\n",
    "    except Exception as e: #caso não exista nenhum dado novo, retorna com a mensagem e encerra o processo\n",
    "        if 'java.io.FileNotFoundException' in str(e):\n",
    "            print(\"Nenhum dado novo\")\n",
    "        else:\n",
    "            print(\"erro no ELT:\", str(e))"
   ]
  },
  {
   "cell_type": "code",
   "execution_count": 0,
   "metadata": {
    "application/vnd.databricks.v1+cell": {
     "cellMetadata": {
      "byteLimit": 2048000,
      "rowLimit": 10000
     },
     "inputWidgets": {},
     "nuid": "ef0f96d4-ce36-44c0-b6c4-0dacc98f31b9",
     "showTitle": false,
     "title": ""
    }
   },
   "outputs": [],
   "source": [
    "def noticias_data(dir_escrita, dir_novo):\n",
    "    df_geral = ps.read_parquet(dir_escrita)\n",
    "    df = df_geral.groupby(by=[df_geral.date]).agg(quantidade=('title', 'count'))\n",
    "    df = df.reset_index(drop=False)\n",
    "    df.to_parquet(dir_novo)"
   ]
  },
  {
   "cell_type": "code",
   "execution_count": 0,
   "metadata": {
    "application/vnd.databricks.v1+cell": {
     "cellMetadata": {
      "byteLimit": 2048000,
      "rowLimit": 10000
     },
     "inputWidgets": {},
     "nuid": "6fc72d88-0ba2-4726-bf11-56c343f5a408",
     "showTitle": false,
     "title": ""
    }
   },
   "outputs": [],
   "source": [
    "def noticias_fonte_autor(dir_escrita, dir_novo):\n",
    "    df_geral = ps.read_parquet(dir_escrita)\n",
    "    df = df_geral.groupby(by=[df_geral.source, df_geral.author]).agg(quantidade=('title', 'count'))\n",
    "    df = df.reset_index(drop=False)\n",
    "    df.to_parquet(dir_novo)\n"
   ]
  },
  {
   "cell_type": "code",
   "execution_count": 0,
   "metadata": {
    "application/vnd.databricks.v1+cell": {
     "cellMetadata": {
      "byteLimit": 2048000,
      "rowLimit": 10000
     },
     "inputWidgets": {},
     "nuid": "50b4b08f-16eb-45c3-9f19-efaf690d3423",
     "showTitle": false,
     "title": ""
    }
   },
   "outputs": [],
   "source": [
    "#define o diretório dos arquivos brutos\n",
    "dir_leitura = \"/FileStore/tables/dados_brutos/\"\n",
    "#define o diretório de qual será o arquivo parquet final que irá armazenar os dados carregados\n",
    "dir_escrita = \"/FileStore/tables/dado_carregado/dado_consolidado_noticias_8.parquet\"\n",
    "\n",
    "elt(dir_leitura, dir_escrita)\n",
    "\n",
    "arquivo_data = \"/FileStore/tables/dado_transformado/noticias_dia2.parquet\"\n",
    "arquivo_fonte_autor = \"/FileStore/tables/dado_transformado/noticias_fonte_autor2.parquet\"\n",
    "arquivo_palavras_chave = \"/FileStore/tables/dado_transformado/noticias_palavra_chave2.parquet\""
   ]
  },
  {
   "cell_type": "code",
   "execution_count": 0,
   "metadata": {
    "application/vnd.databricks.v1+cell": {
     "cellMetadata": {
      "byteLimit": 2048000,
      "rowLimit": 10000
     },
     "inputWidgets": {},
     "nuid": "2e4b8061-3f19-4197-9177-e5767ab2fbde",
     "showTitle": false,
     "title": ""
    }
   },
   "outputs": [],
   "source": [
    "df_geral = ps.read_parquet(dir_escrita)\n",
    "df_geral.head(50)"
   ]
  },
  {
   "cell_type": "code",
   "execution_count": 0,
   "metadata": {
    "application/vnd.databricks.v1+cell": {
     "cellMetadata": {
      "byteLimit": 2048000,
      "rowLimit": 10000
     },
     "inputWidgets": {},
     "nuid": "be2e20d3-e539-4c28-91df-a7e76e3015f5",
     "showTitle": false,
     "title": ""
    }
   },
   "outputs": [],
   "source": [
    "noticias_data(dir_escrita, arquivo_data)\n",
    "df_noticias_data = ps.read_parquet(arquivo_data)\n",
    "df_noticias_data.head()\n"
   ]
  },
  {
   "cell_type": "code",
   "execution_count": 0,
   "metadata": {
    "application/vnd.databricks.v1+cell": {
     "cellMetadata": {
      "byteLimit": 2048000,
      "rowLimit": 10000
     },
     "inputWidgets": {},
     "nuid": "0a8f933d-da65-43d2-82a6-e4be105ea77f",
     "showTitle": false,
     "title": ""
    }
   },
   "outputs": [],
   "source": [
    "noticias_fonte_autor(dir_escrita, arquivo_fonte_autor)\n",
    "df_noticias_fonte_autor = ps.read_parquet(arquivo_fonte_autor)\n",
    "df_noticias_fonte_autor.head()"
   ]
  }
 ],
 "metadata": {
  "application/vnd.databricks.v1+notebook": {
   "dashboards": [],
   "language": "python",
   "notebookMetadata": {
    "pythonIndentUnit": 4
   },
   "notebookName": "ProjetoModulo4-Maina",
   "widgets": {}
  }
 },
 "nbformat": 4,
 "nbformat_minor": 0
}
